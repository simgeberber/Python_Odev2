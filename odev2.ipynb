{
 "cells": [
  {
   "cell_type": "code",
   "execution_count": 1,
   "id": "a9047a1b-466b-4c88-bf88-041170a883c6",
   "metadata": {},
   "outputs": [
    {
     "name": "stdin",
     "output_type": "stream",
     "text": [
      "Bir sayı giriniz:  12\n"
     ]
    },
    {
     "name": "stdout",
     "output_type": "stream",
     "text": [
      "Pozitif çift\n"
     ]
    }
   ],
   "source": [
    "# Soru 1- sayı analizi\n",
    "sayi = int(input(\"Bir sayı giriniz: \"))\n",
    "if sayi > 0  :\n",
    "    if sayi % 2 == 0:\n",
    "        print(\"Pozitif çift\")\n",
    "    else:\n",
    "        print(\"Pozitif Tek\")\n",
    "elif sayi < 0 :\n",
    "    if sayi % 2 == 0:\n",
    "        print(\"Negatif Çift\")\n",
    "    else:\n",
    "        print(\"Negatif Tek\")\n",
    "else:\n",
    "    print(\"Sıfır\")"
   ]
  },
  {
   "cell_type": "code",
   "execution_count": 3,
   "id": "b586eda4-5fa6-48d9-b8ca-1b2c93d96f73",
   "metadata": {},
   "outputs": [
    {
     "name": "stdin",
     "output_type": "stream",
     "text": [
      "Bir kelime giriniz:  mavi\n"
     ]
    },
    {
     "name": "stdout",
     "output_type": "stream",
     "text": [
      "{'m': 1, 'a': 1, 'v': 1, 'i': 1}\n"
     ]
    }
   ],
   "source": [
    "# Soru 2 - Harf frekansı\n",
    "kelime = input(\"Bir kelime giriniz: \")\n",
    "\n",
    "frekans = {}\n",
    "\n",
    "for harf in kelime:\n",
    "    if harf in frekans:\n",
    "        frekans[harf] += 1\n",
    "    else:\n",
    "        frekans[harf] = 1\n",
    "\n",
    "print(frekans)"
   ]
  },
  {
   "cell_type": "code",
   "execution_count": 5,
   "id": "fac4ffbe-4c58-4135-ba25-0907959d4cea",
   "metadata": {},
   "outputs": [
    {
     "name": "stdin",
     "output_type": "stream",
     "text": [
      "Şifrenizi giriniz:  Simge-12\n"
     ]
    },
    {
     "name": "stdout",
     "output_type": "stream",
     "text": [
      "Şifre Geçerli\n"
     ]
    }
   ],
   "source": [
    "# Soru 3 – Sifre Kontrolü (String Metotları)\n",
    "sifre = input(\"Şifrenizi giriniz: \")\n",
    "uzunluk = len(sifre) >= 8\n",
    "buyuk_harf = any(harf.isupper() for harf in sifre)\n",
    "rakam = any(harf.isdigit() for harf in sifre)\n",
    "\n",
    "if uzunluk and buyuk_harf and rakam:\n",
    "    print(\"Şifre Geçerli\")\n",
    "else:\n",
    "    print(\"Şifre Geçersiz.\")\n",
    "    if not uzunluk:\n",
    "        print(\"- En az 8 karakter olmalı:\")\n",
    "    if not  buyuk_harf:\n",
    "        print(\"- En az 1 büyük harf olmalı:\")\n",
    "    if not rakam:\n",
    "        print(\"- En az 1 rakam olmalı\")"
   ]
  },
  {
   "cell_type": "code",
   "execution_count": 7,
   "id": "ec8439f1-7538-46c7-a38c-a112094baa4c",
   "metadata": {},
   "outputs": [
    {
     "name": "stdout",
     "output_type": "stream",
     "text": [
      "15.0\n",
      "Ortalamadan büyük sayılar:  [25, 30, 18]\n"
     ]
    }
   ],
   "source": [
    "#Soru 4 – Liste İşlemleri\n",
    "liste = [12, 4, 9, 25, 30, 7, 18]\n",
    "ortalama = sum(liste) / len(liste)\n",
    "print(ortalama)\n",
    "\n",
    "buyuk_sayilar = []\n",
    "for l in liste:\n",
    "    if l > ortalama :\n",
    "        buyuk_sayilar.append(l)\n",
    "print(\"Ortalamadan büyük sayılar: \", buyuk_sayilar)"
   ]
  },
  {
   "cell_type": "code",
   "execution_count": 11,
   "id": "e9ba25db-22ad-453f-b930-f528f4e4e4b8",
   "metadata": {},
   "outputs": [
    {
     "name": "stdout",
     "output_type": "stream",
     "text": [
      "*\n",
      "**\n",
      "***\n",
      "****\n",
      "*****\n"
     ]
    }
   ],
   "source": [
    "# Soru 5 – Nested Loop (Desen)\n",
    "for i in range(1, 6):\n",
    "    print(\"*\" * i)"
   ]
  },
  {
   "cell_type": "code",
   "execution_count": 13,
   "id": "74f46d79-ddec-4b61-b104-546df54a0031",
   "metadata": {},
   "outputs": [
    {
     "name": "stdin",
     "output_type": "stream",
     "text": [
      "Bir sayı girin (0 çıkış için):  3\n",
      "Bir sayı girin (0 çıkış için):  8\n",
      "Bir sayı girin (0 çıkış için):  1\n",
      "Bir sayı girin (0 çıkış için):  3\n",
      "Bir sayı girin (0 çıkış için):  4\n",
      "Bir sayı girin (0 çıkış için):  0\n"
     ]
    },
    {
     "name": "stdout",
     "output_type": "stream",
     "text": [
      "Girilen sayıların toplamı: 19\n",
      "Girilen sayıların ortalaması: 3.8\n"
     ]
    }
   ],
   "source": [
    "# Soru 6 – While Döngüsü\n",
    "toplam = 0\n",
    "adet = 0\n",
    "\n",
    "while True:\n",
    "    sayi = int(input(\"Bir sayı girin (0 çıkış için): \"))\n",
    "    if sayi == 0:\n",
    "        break\n",
    "    toplam += sayi\n",
    "    adet += 1\n",
    "if adet > 0:\n",
    "    ortalama = toplam / adet\n",
    "    print(\"Girilen sayıların toplamı:\", toplam)\n",
    "    print(\"Girilen sayıların ortalaması:\", ortalama)\n",
    "else:\n",
    "    print(\"Hiç sayı girilmedi.\")"
   ]
  },
  {
   "cell_type": "code",
   "execution_count": 15,
   "id": "c9f135f4-981c-4ba6-9906-9385b7a02136",
   "metadata": {},
   "outputs": [
    {
     "name": "stdin",
     "output_type": "stream",
     "text": [
      "Bir kelime giriniz:  bilgisayar\n"
     ]
    },
    {
     "name": "stdout",
     "output_type": "stream",
     "text": [
      "bilgisayar Palindrom Değil \n"
     ]
    }
   ],
   "source": [
    "#Soru 7 – Palindrom Kontrolü\n",
    "kelime = input(\"Bir kelime giriniz: \")\n",
    "\n",
    "if kelime == kelime[::-1]:\n",
    "    print(kelime, \"Palindrom \")\n",
    "else:\n",
    "    print(kelime, \"Palindrom Değil \")"
   ]
  },
  {
   "cell_type": "code",
   "execution_count": 17,
   "id": "ca7bda81-5ac5-4ad7-8986-c7bac4e8c596",
   "metadata": {},
   "outputs": [
    {
     "name": "stdout",
     "output_type": "stream",
     "text": [
      "Hem 3'e hem 5'e bölünebilenlerin kareleri: [225, 900, 2025, 3600, 5625, 8100]\n"
     ]
    }
   ],
   "source": [
    "# Soru 8 - List Comprehension\n",
    "liste = [i**2 for i in range(1, 101) if i % 3 == 0 and i % 5 == 0]\n",
    "print(\"Hem 3'e hem 5'e bölünebilenlerin kareleri:\", liste)"
   ]
  },
  {
   "cell_type": "code",
   "execution_count": 19,
   "id": "061c552d-09b9-46d2-a521-2eb584df5039",
   "metadata": {},
   "outputs": [
    {
     "name": "stdout",
     "output_type": "stream",
     "text": [
      "Python Summer Camp\n"
     ]
    }
   ],
   "source": [
    "# Soru 9 - String İşlemleri\n",
    "cumle = \"python summer camp \"\n",
    "kelimeler = cumle.split()\n",
    "yeni_kelimeler = [kelime.capitalize() for kelime in kelimeler]\n",
    "yeni_cumle = \" \".join(yeni_kelimeler)\n",
    "print(yeni_cumle)"
   ]
  },
  {
   "cell_type": "code",
   "execution_count": 21,
   "id": "87069aec-aa25-4c13-bc3f-186a59534aae",
   "metadata": {},
   "outputs": [
    {
     "name": "stdout",
     "output_type": "stream",
     "text": [
      "Toplam yorum sayısı: 5\n",
      "\"iyi\" geçen yorum sayısı: 1\n",
      "En uzun yorum: Daha iyi olabilirdi\n",
      "En kısa yorum: İdare ederdi\n",
      "Ortalama uzunluk: 16.0 karakter\n"
     ]
    }
   ],
   "source": [
    "# Mini Proje - Film Yorumu Analizi\n",
    "yorumlar = [\n",
    "    \"Filime aşık oldum\",\n",
    "    \"Hiç beğenmedim\",\n",
    "    \"İdare ederdi\",\n",
    "    \"Çok akıcıydı film \",\n",
    "    \"Daha iyi olabilirdi\"\n",
    "]\n",
    "\n",
    "print(\"Toplam yorum sayısı:\", len(yorumlar))\n",
    "iyi_sayisi = sum(\"iyi\" in y.lower() for y in yorumlar)\n",
    "print('\"iyi\" geçen yorum sayısı:', iyi_sayisi)\n",
    "en_uzun = max(yorumlar, key=len)\n",
    "en_kisa = min(yorumlar, key=len)\n",
    "print(\"En uzun yorum:\", en_uzun)\n",
    "print(\"En kısa yorum:\", en_kisa)\n",
    "uzunluklar = [len(y) for y in yorumlar]\n",
    "print(\"Ortalama uzunluk:\", sum(uzunluklar)/len(uzunluklar), \"karakter\")"
   ]
  }
 ],
 "metadata": {
  "kernelspec": {
   "display_name": "Python 3 (ipykernel)",
   "language": "python",
   "name": "python3"
  },
  "language_info": {
   "codemirror_mode": {
    "name": "ipython",
    "version": 3
   },
   "file_extension": ".py",
   "mimetype": "text/x-python",
   "name": "python",
   "nbconvert_exporter": "python",
   "pygments_lexer": "ipython3",
   "version": "3.12.7"
  }
 },
 "nbformat": 4,
 "nbformat_minor": 5
}
